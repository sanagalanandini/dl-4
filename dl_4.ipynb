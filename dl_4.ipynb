{
  "nbformat": 4,
  "nbformat_minor": 0,
  "metadata": {
    "colab": {
      "provenance": [],
      "name": "dl-4",
      "authorship_tag": "ABX9TyNHZNLwt7cozeM5+O0/k7Zd",
      "include_colab_link": true
    },
    "kernelspec": {
      "name": "python3",
      "display_name": "Python 3"
    },
    "language_info": {
      "name": "python"
    }
  },
  "cells": [
    {
      "cell_type": "markdown",
      "metadata": {
        "id": "view-in-github",
        "colab_type": "text"
      },
      "source": [
        "<a href=\"https://colab.research.google.com/github/sanagalanandini/dl-4/blob/main/dl_4.ipynb\" target=\"_parent\"><img src=\"https://colab.research.google.com/assets/colab-badge.svg\" alt=\"Open In Colab\"/></a>"
      ]
    },
    {
      "cell_type": "code",
      "execution_count": null,
      "metadata": {
        "id": "q8KsePUFBJsn"
      },
      "outputs": [],
      "source": [
        "import numpy as np\n",
        "import tensorflow as tf\n",
        "from tensorflow.keras.preprocessing.text import Tokenizer\n",
        "from tensorflow.keras.preprocessing.sequence import pad_sequences\n",
        "from tensorflow.keras.models import Sequential\n",
        "from tensorflow.keras.layers import Embedding, LSTM, Dense"
      ]
    },
    {
      "cell_type": "code",
      "source": [
        "with open('/content/Sherlock.txt', 'r', encoding='utf-8') as file:\n",
        " text = file.read()\n"
      ],
      "metadata": {
        "id": "RZY2QLNsCpM2"
      },
      "execution_count": null,
      "outputs": []
    },
    {
      "cell_type": "code",
      "source": [
        "tokenizer = Tokenizer()\n",
        "tokenizer.fit_on_texts([text])\n",
        "total_words = len(tokenizer.word_index) + 1\n"
      ],
      "metadata": {
        "id": "gQIciEq7C4Uk"
      },
      "execution_count": null,
      "outputs": []
    },
    {
      "cell_type": "code",
      "source": [
        "input_sequences = []\n",
        "for line in text.split('\\n'):\n",
        " token_list = tokenizer.texts_to_sequences([line])[0]\n",
        " for i in range(1, len(token_list)):\n",
        "  n_gram_sequence = token_list[:i+1]\n",
        " input_sequences.append(n_gram_sequence)\n",
        "\n"
      ],
      "metadata": {
        "id": "PNxWy86oC9CC"
      },
      "execution_count": null,
      "outputs": []
    },
    {
      "cell_type": "code",
      "source": [
        "max_sequence_len = max([len(seq) for seq in input_sequences])\n",
        "input_sequences = np.array(pad_sequences(input_sequences, maxlen=max_sequence_len, padding='pre'))\n",
        "\n"
      ],
      "metadata": {
        "id": "0RwMBaUjDTkd"
      },
      "execution_count": null,
      "outputs": []
    },
    {
      "cell_type": "code",
      "source": [
        "X = input_sequences[:, :-1]\n",
        "y = input_sequences[:, -1]\n",
        "\n"
      ],
      "metadata": {
        "id": "qix5sBcUDcoN"
      },
      "execution_count": null,
      "outputs": []
    },
    {
      "cell_type": "code",
      "source": [
        "y = np.array(tf.keras.utils.to_categorical(y, num_classes=total_words))\n"
      ],
      "metadata": {
        "id": "SNKqy1PnDi0_"
      },
      "execution_count": null,
      "outputs": []
    },
    {
      "cell_type": "code",
      "source": [
        "model = Sequential()\n",
        "model.add(Embedding(total_words, 100, input_length=max_sequence_len-1))\n",
        "model.add(LSTM(150))\n",
        "model.add(Dense(total_words, activation='softmax'))\n",
        "print(model.summary())\n",
        "\n"
      ],
      "metadata": {
        "colab": {
          "base_uri": "https://localhost:8080/"
        },
        "id": "c1s_Hh4ADpjM",
        "outputId": "b1e8ccc1-2f16-4c49-e4c6-59c354f68a23"
      },
      "execution_count": null,
      "outputs": [
        {
          "output_type": "stream",
          "name": "stdout",
          "text": [
            "Model: \"sequential_1\"\n",
            "_________________________________________________________________\n",
            " Layer (type)                Output Shape              Param #   \n",
            "=================================================================\n",
            " embedding_1 (Embedding)     (None, 16, 100)           846400    \n",
            "                                                                 \n",
            " lstm_1 (LSTM)               (None, 150)               150600    \n",
            "                                                                 \n",
            " dense_1 (Dense)             (None, 8464)              1278064   \n",
            "                                                                 \n",
            "=================================================================\n",
            "Total params: 2,275,064\n",
            "Trainable params: 2,275,064\n",
            "Non-trainable params: 0\n",
            "_________________________________________________________________\n",
            "None\n"
          ]
        }
      ]
    },
    {
      "cell_type": "code",
      "source": [
        "model.compile(loss='categorical_crossentropy', optimizer='adam', metrics=['accuracy'])\n",
        "model.fit(X, y, epochs=10, verbose=1)\n"
      ],
      "metadata": {
        "colab": {
          "base_uri": "https://localhost:8080/"
        },
        "id": "fwdkiGm7DwwM",
        "outputId": "45504b1a-3c52-484f-f7f7-b163c185e9e5"
      },
      "execution_count": null,
      "outputs": [
        {
          "output_type": "stream",
          "name": "stdout",
          "text": [
            "Epoch 1/10\n",
            "408/408 [==============================] - 34s 76ms/step - loss: 6.9904 - accuracy: 0.0498\n",
            "Epoch 2/10\n",
            "408/408 [==============================] - 31s 76ms/step - loss: 6.2830 - accuracy: 0.0531\n",
            "Epoch 3/10\n",
            "408/408 [==============================] - 29s 71ms/step - loss: 6.0033 - accuracy: 0.0732\n",
            "Epoch 4/10\n",
            "408/408 [==============================] - 31s 75ms/step - loss: 5.6138 - accuracy: 0.0962\n",
            "Epoch 5/10\n",
            "408/408 [==============================] - 29s 71ms/step - loss: 5.2260 - accuracy: 0.1184\n",
            "Epoch 6/10\n",
            "408/408 [==============================] - 28s 70ms/step - loss: 4.8407 - accuracy: 0.1424\n",
            "Epoch 7/10\n",
            "408/408 [==============================] - 29s 71ms/step - loss: 4.4693 - accuracy: 0.1710\n",
            "Epoch 8/10\n",
            "408/408 [==============================] - 30s 73ms/step - loss: 4.1157 - accuracy: 0.2134\n",
            "Epoch 9/10\n",
            "408/408 [==============================] - 30s 74ms/step - loss: 3.7673 - accuracy: 0.2598\n",
            "Epoch 10/10\n",
            "408/408 [==============================] - 29s 72ms/step - loss: 3.4310 - accuracy: 0.3141\n"
          ]
        },
        {
          "output_type": "execute_result",
          "data": {
            "text/plain": [
              "<keras.callbacks.History at 0x7a512ec3f1f0>"
            ]
          },
          "metadata": {},
          "execution_count": 24
        }
      ]
    },
    {
      "cell_type": "code",
      "source": [
        "seed_text = \"i am rohini\"\n",
        "next_words = 4\n",
        "\n",
        "for _ in range(next_words):\n",
        "  token_list = tokenizer.texts_to_sequences([seed_text])[0]\n",
        "  token_list = pad_sequences([token_list], maxlen=max_sequence_len-1, padding='pre')\n",
        "  predicted = np.argmax(model.predict(token_list), axis=-1)\n",
        "  output_word = \"\"\n",
        "  for word, index in tokenizer.word_index.items():\n",
        "    if index == predicted:\n",
        "      output_word = word\n",
        "      break\n",
        "    seed_text += \" \" + output_word\n",
        "print(seed_text)\n"
      ],
      "metadata": {
        "colab": {
          "base_uri": "https://localhost:8080/"
        },
        "id": "2QwjHMt6LOoL",
        "outputId": "d3e93a95-878f-4b24-c449-0985a5136fda"
      },
      "execution_count": null,
      "outputs": [
        {
          "output_type": "stream",
          "name": "stdout",
          "text": [
            "1/1 [==============================] - 0s 443ms/step\n",
            "1/1 [==============================] - 0s 25ms/step\n",
            "1/1 [==============================] - 0s 25ms/step\n",
            "1/1 [==============================] - 0s 25ms/step\n",
            "i am rohini                                                                                                                                                                                                                                                                                                                                                                                                                                                                                                                                                                                                                                                                                                                                                                                                                                                                                                                                                                                                                                                                                                                                                                                                                                                                                                                                                                                                                                                                                                                                                                                                                        \n"
          ]
        }
      ]
    }
  ]
}